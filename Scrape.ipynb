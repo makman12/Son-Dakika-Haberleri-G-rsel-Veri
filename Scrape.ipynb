{
 "cells": [
  {
   "cell_type": "code",
   "execution_count": 109,
   "metadata": {},
   "outputs": [],
   "source": [
    "import requests\n",
    "from bs4 import BeautifulSoup\n",
    "import json\n",
    "import concurrent.futures\n",
    "import time\n",
    "from collections import Counter\n",
    "import pandas as pd"
   ]
  },
  {
   "cell_type": "code",
   "execution_count": 68,
   "metadata": {},
   "outputs": [],
   "source": [
    "lastPage=384\n",
    "def getUrl(page):\n",
    "    return f\"https://www.ntv.com.tr/Tag/GetLastNews?slug=son-dakika&sayfa={page}&kategori=0&tarih=4\"\n",
    "def getSoup(page):\n",
    "    url=requests.get(getUrl(page)).text\n",
    "    soup=BeautifulSoup(url,\"html.parser\")\n",
    "    return soup\n",
    "every=[]\n",
    "def getAllTitle(page,multi=False):\n",
    "    soup=getSoup(page)\n",
    "    a=soup.find_all(\"a\")\n",
    "    allTitle=[]\n",
    "    for i in range(12):\n",
    "        i=i*2\n",
    "        title=a[i][\"title\"].replace(\"\\xa0\",\" \").lower()\n",
    "        allTitle.append(title)\n",
    "    if(multi):\n",
    "        every.extend(allTitle)\n",
    "    else:\n",
    "        return allTitle\n",
    "\n",
    "def multiPage(pagecount):\n",
    "    t1=time.time()\n",
    "    pages=list(range(1,pagecount))\n",
    "    with concurrent.futures.ThreadPoolExecutor(max_workers=20) as executor:\n",
    "        executor.map(getAllTitle, pages, [True]*len(pages))\n",
    "    t2=time.time()\n",
    "    print(f\"{int(t2-t1)} saniyede\")\n",
    "    return every\n",
    "    "
   ]
  },
  {
   "cell_type": "code",
   "execution_count": 5,
   "metadata": {},
   "outputs": [],
   "source": [
    "soup=getSoup(1)"
   ]
  },
  {
   "cell_type": "code",
   "execution_count": 71,
   "metadata": {},
   "outputs": [
    {
     "name": "stdout",
     "output_type": "stream",
     "text": [
      "53 saniyede\n"
     ]
    }
   ],
   "source": [
    "sonuç=multiPage(lastPage+1)"
   ]
  },
  {
   "cell_type": "code",
   "execution_count": 103,
   "metadata": {},
   "outputs": [
    {
     "data": {
      "text/plain": [
       "4545"
      ]
     },
     "execution_count": 103,
     "metadata": {},
     "output_type": "execute_result"
    }
   ],
   "source": [
    "len(sonuç)"
   ]
  },
  {
   "cell_type": "code",
   "execution_count": 81,
   "metadata": {},
   "outputs": [],
   "source": [
    "with open(\"Sondakika.json\",\"w\") as output:\n",
    "    json.dump(sonuç,output)"
   ]
  },
  {
   "cell_type": "code",
   "execution_count": null,
   "metadata": {},
   "outputs": [],
   "source": [
    "def kelimeSayısı(kelime):\n",
    "    def intitle(title):\n",
    "        tit"
   ]
  },
  {
   "cell_type": "code",
   "execution_count": 207,
   "metadata": {},
   "outputs": [],
   "source": [
    "def word_count(str):\n",
    "    counts = dict()\n",
    "    words = str.split()\n",
    "    delete=['\\'',\"\\\"\",\"(\",\")\",\":\",\"...\",\",\",\"?\",\"!\",\";\"]\n",
    "    for word in words:\n",
    "        if len(word)<4:\n",
    "            pass\n",
    "        else:\n",
    "            for i in delete:\n",
    "                word=word.split(i)[0]\n",
    "            if word in counts:\n",
    "                counts[word] += 1\n",
    "            else:\n",
    "                counts[word] = 1\n",
    "\n",
    "    return Counter(counts)"
   ]
  },
  {
   "cell_type": "code",
   "execution_count": 174,
   "metadata": {},
   "outputs": [],
   "source": [
    "def countAllWords():\n",
    "    result=Counter({})\n",
    "    for i in sonuç:\n",
    "        result=result+word_count(i)\n",
    "    return result"
   ]
  },
  {
   "cell_type": "code",
   "execution_count": 175,
   "metadata": {},
   "outputs": [],
   "source": [
    "deneme=countAllWords()"
   ]
  },
  {
   "cell_type": "code",
   "execution_count": 183,
   "metadata": {},
   "outputs": [],
   "source": [
    "df=pd.Series(deneme).to_frame(\"Sayı\")\n",
    "df=df.sort_values(\"Sayı\", ascending=False)\n",
    "df[\"kelime\"]=df.index\n",
    "df=df.loc[df[\"kelime\"].str.len()>4]\n",
    "df=df.loc[df[\"Sayı\"]>9]\n",
    "df=df.reset_index()\n",
    "df=df.drop(['index'], axis=1)"
   ]
  },
  {
   "cell_type": "code",
   "execution_count": 155,
   "metadata": {},
   "outputs": [],
   "source": []
  },
  {
   "cell_type": "code",
   "execution_count": 186,
   "metadata": {},
   "outputs": [],
   "source": [
    "kelimeler=list(df[\"kelime\"])"
   ]
  },
  {
   "cell_type": "code",
   "execution_count": 224,
   "metadata": {
    "scrolled": true
   },
   "outputs": [],
   "source": [
    "alldata=[]\n",
    "count=0\n",
    "for i in kelimeler[:50]:\n",
    "    data={\"id\":i,\"group\":count}\n",
    "    count+=1\n",
    "    alldata.append(data)\n",
    "    \n",
    "with open(\"visual/nodesall.json\",\"w\") as output:\n",
    "    json.dump(alldata,output)"
   ]
  },
  {
   "cell_type": "code",
   "execution_count": 221,
   "metadata": {},
   "outputs": [
    {
     "name": "stdout",
     "output_type": "stream",
     "text": [
      "daki̇ka\n",
      "haberi̇\n",
      "fiyatları\n",
      "kadar\n",
      "altın\n",
      "dolar\n",
      "bugün\n",
      "corona\n",
      "çeyrek\n",
      "cumhurbaşkanı\n",
      "erdoğan\n",
      "türkiye\n",
      "bakan\n",
      "virüs\n",
      "güncel\n",
      "kaybı\n",
      "açıklaması\n",
      "terörist\n",
      "bakanı\n",
      "başkanı\n",
      "i̇stanbul\n",
      "anlık\n",
      "etkisiz\n",
      "getirildi\n",
      "deprem\n",
      "görüştü\n",
      "kararı\n",
      "milli\n",
      "büyüklüğünde\n",
      "bakanlığı\n",
      "gözaltı\n",
      "i̇dlib\n",
      "operasyonu\n",
      "açıkladı\n",
      "açıklama\n",
      "i̇çişleri\n",
      "tablosu\n",
      "açıklandı\n",
      "belli\n",
      "dışişleri\n",
      "temmuz\n",
      "virüsten\n",
      "ilişkin\n",
      "eylül\n",
      "sağlık\n",
      "çavuşoğlu\n",
      "haziran\n",
      "ağustos\n",
      "şehit\n",
      "parti\n"
     ]
    }
   ],
   "source": [
    "example={\"source\": \"Napoleon\", \"target\": \"Myriel\", \"value\": 1}\n",
    "links=[]\n",
    "for kelime in kelimeler[0:50]:\n",
    "    print(kelime)\n",
    "    for cümle in sonuç:\n",
    "        if cümle.find(kelime)!= -1:\n",
    "            veri=dict(word_count(cümle))\n",
    "            for key in veri.keys() :\n",
    "                if key.find(kelime)==-1 and key in kelimeler[0:50]:\n",
    "                    link={\"source\": kelime, \"target\": key, \"value\": 1}\n",
    "                    bulinkyok=True\n",
    "                    for varolan in links:\n",
    "                        if varolan[\"source\"]==link[\"source\"] and varolan[\"target\"]==link[\"target\"]:\n",
    "                            varolan[\"value\"]+=1\n",
    "                            bulinkyok=False\n",
    "                            break\n",
    "                    if(bulinkyok):\n",
    "                        links.append(link)\n",
    "    with open(\"visual/linksall.json\",\"w\") as output:\n",
    "        json.dump(links,output)"
   ]
  },
  {
   "cell_type": "code",
   "execution_count": 222,
   "metadata": {},
   "outputs": [],
   "source": []
  }
 ],
 "metadata": {
  "kernelspec": {
   "display_name": "Python 3",
   "language": "python",
   "name": "python3"
  },
  "language_info": {
   "codemirror_mode": {
    "name": "ipython",
    "version": 3
   },
   "file_extension": ".py",
   "mimetype": "text/x-python",
   "name": "python",
   "nbconvert_exporter": "python",
   "pygments_lexer": "ipython3",
   "version": "3.8.5"
  }
 },
 "nbformat": 4,
 "nbformat_minor": 4
}
